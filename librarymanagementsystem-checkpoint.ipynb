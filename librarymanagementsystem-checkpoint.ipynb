{
 "cells": [
  {
   "cell_type": "code",
   "execution_count": 1,
   "id": "7e90ab13-9e1d-466e-9bd3-233e10012106",
   "metadata": {},
   "outputs": [
    {
     "name": "stdout",
     "output_type": "stream",
     "text": [
      "\n",
      "===== 📚 Library Management System =====\n",
      "1. Add Book\n",
      "2. Add Member\n",
      "3. Issue Book\n",
      "4. Return Book\n",
      "5. View All Books\n",
      "6. View Members\n",
      "7. View Transactions\n",
      "8. Exit\n"
     ]
    },
    {
     "name": "stdin",
     "output_type": "stream",
     "text": [
      "Enter choice:  1\n",
      "Enter book title:  Python programming \n",
      "Enter author:  Guido Van Rossum\n",
      "Enter category:  Programming\n",
      "Enter number of copies:  3\n"
     ]
    },
    {
     "name": "stdout",
     "output_type": "stream",
     "text": [
      "✅ Book added successfully!\n",
      "\n",
      "\n",
      "===== 📚 Library Management System =====\n",
      "1. Add Book\n",
      "2. Add Member\n",
      "3. Issue Book\n",
      "4. Return Book\n",
      "5. View All Books\n",
      "6. View Members\n",
      "7. View Transactions\n",
      "8. Exit\n"
     ]
    },
    {
     "name": "stdin",
     "output_type": "stream",
     "text": [
      "Enter choice:  2\n",
      "Enter member name:  Bharath\n",
      "Enter email:  Bharathraghav@gmail.com\n",
      "Enter phone number:  9865732891\n"
     ]
    },
    {
     "name": "stdout",
     "output_type": "stream",
     "text": [
      "✅ Member added successfully!\n",
      "\n",
      "\n",
      "===== 📚 Library Management System =====\n",
      "1. Add Book\n",
      "2. Add Member\n",
      "3. Issue Book\n",
      "4. Return Book\n",
      "5. View All Books\n",
      "6. View Members\n",
      "7. View Transactions\n",
      "8. Exit\n"
     ]
    },
    {
     "name": "stdin",
     "output_type": "stream",
     "text": [
      "Enter choice:  5\n"
     ]
    },
    {
     "name": "stdout",
     "output_type": "stream",
     "text": [
      "\n",
      "📖 Available Books:\n",
      "{'book_id': 1, 'title': 'Python programming ', 'author': 'Guido Van Rossum', 'category': 'Programming', 'available_copies': 3}\n",
      "\n",
      "\n",
      "===== 📚 Library Management System =====\n",
      "1. Add Book\n",
      "2. Add Member\n",
      "3. Issue Book\n",
      "4. Return Book\n",
      "5. View All Books\n",
      "6. View Members\n",
      "7. View Transactions\n",
      "8. Exit\n"
     ]
    },
    {
     "name": "stdin",
     "output_type": "stream",
     "text": [
      "Enter choice:  3\n",
      "Enter Book ID:  1\n",
      "Enter Member ID:  1\n"
     ]
    },
    {
     "name": "stdout",
     "output_type": "stream",
     "text": [
      "✅ Book issued successfully!\n",
      "\n",
      "\n",
      "===== 📚 Library Management System =====\n",
      "1. Add Book\n",
      "2. Add Member\n",
      "3. Issue Book\n",
      "4. Return Book\n",
      "5. View All Books\n",
      "6. View Members\n",
      "7. View Transactions\n",
      "8. Exit\n"
     ]
    },
    {
     "name": "stdin",
     "output_type": "stream",
     "text": [
      "Enter choice:  7\n"
     ]
    },
    {
     "name": "stdout",
     "output_type": "stream",
     "text": [
      "\n",
      "📌 Transactions:\n",
      "{'trans_id': 1, 'book_id': 1, 'member_id': 1, 'issue_date': '2025-10-01', 'return_date': None}\n",
      "\n",
      "\n",
      "===== 📚 Library Management System =====\n",
      "1. Add Book\n",
      "2. Add Member\n",
      "3. Issue Book\n",
      "4. Return Book\n",
      "5. View All Books\n",
      "6. View Members\n",
      "7. View Transactions\n",
      "8. Exit\n"
     ]
    },
    {
     "name": "stdin",
     "output_type": "stream",
     "text": [
      "Enter choice:  8\n"
     ]
    },
    {
     "name": "stdout",
     "output_type": "stream",
     "text": [
      "👋 Exiting system. Goodbye!\n"
     ]
    }
   ],
   "source": [
    "import json\n",
    "from datetime import datetime\n",
    "import os\n",
    "\n",
    "BOOK_FILE = \"books.json\"\n",
    "MEMBER_FILE = \"members.json\"\n",
    "TRANS_FILE = \"transactions.json\"\n",
    "\n",
    "def load_data(file):\n",
    "    if os.path.exists(file):\n",
    "        with open(file, \"r\") as f:\n",
    "            return json.load(f)\n",
    "    return []\n",
    "\n",
    "def save_data(file, data):\n",
    "    with open(file, \"w\") as f:\n",
    "        json.dump(data, f, indent=4)\n",
    "\n",
    "books = load_data(BOOK_FILE)\n",
    "members = load_data(MEMBER_FILE)\n",
    "transactions = load_data(TRANS_FILE)\n",
    "\n",
    "def add_book():\n",
    "    book_id = len(books) + 1\n",
    "    title = input(\"Enter book title: \")\n",
    "    author = input(\"Enter author: \")\n",
    "    category = input(\"Enter category: \")\n",
    "    copies = int(input(\"Enter number of copies: \"))\n",
    "    \n",
    "    books.append({\n",
    "        \"book_id\": book_id,\n",
    "        \"title\": title,\n",
    "        \"author\": author,\n",
    "        \"category\": category,\n",
    "        \"available_copies\": copies\n",
    "    })\n",
    "    save_data(BOOK_FILE, books)\n",
    "    print(\"✅ Book added successfully!\\n\")\n",
    "\n",
    "def add_member():\n",
    "    member_id = len(members) + 1\n",
    "    name = input(\"Enter member name: \")\n",
    "    email = input(\"Enter email: \")\n",
    "    phone = input(\"Enter phone number: \")\n",
    "    \n",
    "    members.append({\n",
    "        \"member_id\": member_id,\n",
    "        \"name\": name,\n",
    "        \"email\": email,\n",
    "        \"phone\": phone\n",
    "    })\n",
    "    save_data(MEMBER_FILE, members)\n",
    "    print(\"✅ Member added successfully!\\n\")\n",
    "\n",
    "def issue_book():\n",
    "    book_id = int(input(\"Enter Book ID: \"))\n",
    "    member_id = int(input(\"Enter Member ID: \"))\n",
    "    \n",
    "    for book in books:\n",
    "        if book[\"book_id\"] == book_id and book[\"available_copies\"] > 0:\n",
    "            trans_id = len(transactions) + 1\n",
    "            transactions.append({\n",
    "                \"trans_id\": trans_id,\n",
    "                \"book_id\": book_id,\n",
    "                \"member_id\": member_id,\n",
    "                \"issue_date\": datetime.now().strftime(\"%Y-%m-%d\"),\n",
    "                \"return_date\": None\n",
    "            })\n",
    "            book[\"available_copies\"] -= 1\n",
    "            save_data(BOOK_FILE, books)\n",
    "            save_data(TRANS_FILE, transactions)\n",
    "            print(\"✅ Book issued successfully!\\n\")\n",
    "            return\n",
    "    print(\"❌ Book not available!\\n\")\n",
    "\n",
    "def return_book():\n",
    "    trans_id = int(input(\"Enter Transaction ID: \"))\n",
    "    \n",
    "    for trans in transactions:\n",
    "        if trans[\"trans_id\"] == trans_id and trans[\"return_date\"] is None:\n",
    "            trans[\"return_date\"] = datetime.now().strftime(\"%Y-%m-%d\")\n",
    "            \n",
    "            # Increase book copies\n",
    "            for book in books:\n",
    "                if book[\"book_id\"] == trans[\"book_id\"]:\n",
    "                    book[\"available_copies\"] += 1\n",
    "            \n",
    "            save_data(BOOK_FILE, books)\n",
    "            save_data(TRANS_FILE, transactions)\n",
    "            print(\"✅ Book returned successfully!\\n\")\n",
    "            return\n",
    "    print(\"❌ Invalid transaction ID or book already returned!\\n\")\n",
    "\n",
    "def view_books():\n",
    "    print(\"\\n📖 Available Books:\")\n",
    "    for book in books:\n",
    "        print(book)\n",
    "    print()\n",
    "\n",
    "def view_members():\n",
    "    print(\"\\n👥 Members:\")\n",
    "    for member in members:\n",
    "        print(member)\n",
    "    print()\n",
    "\n",
    "def view_transactions():\n",
    "    print(\"\\n📌 Transactions:\")\n",
    "    for trans in transactions:\n",
    "        print(trans)\n",
    "    print()\n",
    "\n",
    "def menu():\n",
    "    while True:\n",
    "        print(\"\\n===== 📚 Library Management System =====\")\n",
    "        print(\"1. Add Book\")\n",
    "        print(\"2. Add Member\")\n",
    "        print(\"3. Issue Book\")\n",
    "        print(\"4. Return Book\")\n",
    "        print(\"5. View All Books\")\n",
    "        print(\"6. View Members\")\n",
    "        print(\"7. View Transactions\")\n",
    "        print(\"8. Exit\")\n",
    "\n",
    "        choice = input(\"Enter choice: \")\n",
    "\n",
    "        if choice == \"1\":\n",
    "            add_book()\n",
    "        elif choice == \"2\":\n",
    "            add_member()\n",
    "        elif choice == \"3\":\n",
    "            issue_book()\n",
    "        elif choice == \"4\":\n",
    "            return_book()\n",
    "        elif choice == \"5\":\n",
    "            view_books()\n",
    "        elif choice == \"6\":\n",
    "            view_members()\n",
    "        elif choice == \"7\":\n",
    "            view_transactions()\n",
    "        elif choice == \"8\":\n",
    "            print(\"👋 Exiting system. Goodbye!\")\n",
    "            break\n",
    "        else:\n",
    "            print(\"❌ Invalid choice! Try again.\")\n",
    "\n",
    "menu()"
   ]
  },
  {
   "cell_type": "code",
   "execution_count": null,
   "id": "b6279bf1-272b-420f-883b-79bb16526ab9",
   "metadata": {},
   "outputs": [],
   "source": []
  }
 ],
 "metadata": {
  "kernelspec": {
   "display_name": "Python 3 (ipykernel)",
   "language": "python",
   "name": "python3"
  },
  "language_info": {
   "codemirror_mode": {
    "name": "ipython",
    "version": 3
   },
   "file_extension": ".py",
   "mimetype": "text/x-python",
   "name": "python",
   "nbconvert_exporter": "python",
   "pygments_lexer": "ipython3",
   "version": "3.12.7"
  }
 },
 "nbformat": 4,
 "nbformat_minor": 5
}
